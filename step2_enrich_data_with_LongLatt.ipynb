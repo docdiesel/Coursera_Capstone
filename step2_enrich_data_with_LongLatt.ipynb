{
    "nbformat_minor": 1, 
    "cells": [
        {
            "source": "## Notebook for scraping wiki page for toronto data", 
            "cell_type": "markdown", 
            "metadata": {
                "collapsed": true
            }
        }, 
        {
            "source": "In this notebook, I'm scraping the Toronto Postal Codes from a wiki page for a Coursera course (see link below). The following tasks are done:\n\n- read the wiki page and load it into a BeautifulSoup object\n- parse the BS object and extract the data from the html table while writing it to a first dataframe\n- then iterate over that df and copy the data while grouping the neighborhoods over the boroughs\n\nref.: https://www.coursera.org/learn/applied-data-science-capstone\n", 
            "cell_type": "markdown", 
            "metadata": {}
        }, 
        {
            "source": "First, some basic settings:", 
            "cell_type": "markdown", 
            "metadata": {}
        }, 
        {
            "execution_count": 1, 
            "cell_type": "code", 
            "metadata": {}, 
            "outputs": [], 
            "source": "# where to find the toronto data\nwiki_url ='https://en.wikipedia.org/wiki/List_of_postal_codes_of_Canada:_M'\n\n# column names for target dataframe\nmycolumns = ['PostalCode', 'Borough','Neighborhood']\n"
        }, 
        {
            "source": "Now import the libraries needed", 
            "cell_type": "markdown", 
            "metadata": {}
        }, 
        {
            "execution_count": 2, 
            "cell_type": "code", 
            "metadata": {}, 
            "outputs": [
                {
                    "output_type": "stream", 
                    "name": "stdout", 
                    "text": "libaries imported\n"
                }
            ], 
            "source": "##\n## import libraries\n##\nimport pandas as pd\nimport sys\nimport urllib\nimport urllib.request\nfrom bs4 import BeautifulSoup\nprint('libaries imported')"
        }, 
        {
            "source": "## The scraping part", 
            "cell_type": "markdown", 
            "metadata": {}
        }, 
        {
            "source": "Load the html page", 
            "cell_type": "markdown", 
            "metadata": {}
        }, 
        {
            "execution_count": 3, 
            "cell_type": "code", 
            "metadata": {}, 
            "outputs": [
                {
                    "output_type": "stream", 
                    "name": "stdout", 
                    "text": "<table class=\"wikitable sortable\">\n<tbody><tr>\n<th>Postcode</th>\n<th>Borough</th>\n<th>Neighbourhood\n</th></tr>\n\n"
                }
            ], 
            "source": "soup = BeautifulSoup(\n       urllib.request.urlopen( wiki_url ).read(),\n       'html.parser'\n       )\n\n## table is <table class=\"wikitable sortable\">\nmytable = soup.findAll('table',{'class':'wikitable'})[0]\n\n# check first bytes\nprint( str(mytable)[0:111] )\n"
        }, 
        {
            "source": "#### Copy the data into a pandas df", 
            "cell_type": "markdown", 
            "metadata": {}
        }, 
        {
            "source": "- find all rows (tr)\n- in each row, find the cells (td)\n- extract the text and strip appending newlines\n- if not 'Not assigned', copy to df", 
            "cell_type": "markdown", 
            "metadata": {}
        }, 
        {
            "execution_count": 4, 
            "cell_type": "code", 
            "metadata": {
                "scrolled": true
            }, 
            "outputs": [
                {
                    "execution_count": 4, 
                    "metadata": {}, 
                    "data": {
                        "text/html": "<div>\n<style scoped>\n    .dataframe tbody tr th:only-of-type {\n        vertical-align: middle;\n    }\n\n    .dataframe tbody tr th {\n        vertical-align: top;\n    }\n\n    .dataframe thead th {\n        text-align: right;\n    }\n</style>\n<table border=\"1\" class=\"dataframe\">\n  <thead>\n    <tr style=\"text-align: right;\">\n      <th></th>\n      <th>PostalCode</th>\n      <th>Borough</th>\n      <th>Neighborhood</th>\n    </tr>\n  </thead>\n  <tbody>\n    <tr>\n      <th>0</th>\n      <td>M3A</td>\n      <td>North York</td>\n      <td>Parkwoods</td>\n    </tr>\n    <tr>\n      <th>1</th>\n      <td>M4A</td>\n      <td>North York</td>\n      <td>Victoria Village</td>\n    </tr>\n    <tr>\n      <th>2</th>\n      <td>M5A</td>\n      <td>Downtown Toronto</td>\n      <td>Harbourfront</td>\n    </tr>\n    <tr>\n      <th>3</th>\n      <td>M5A</td>\n      <td>Downtown Toronto</td>\n      <td>Regent Park</td>\n    </tr>\n    <tr>\n      <th>4</th>\n      <td>M6A</td>\n      <td>North York</td>\n      <td>Lawrence Heights</td>\n    </tr>\n  </tbody>\n</table>\n</div>", 
                        "text/plain": "  PostalCode           Borough      Neighborhood\n0        M3A        North York         Parkwoods\n1        M4A        North York  Victoria Village\n2        M5A  Downtown Toronto      Harbourfront\n3        M5A  Downtown Toronto       Regent Park\n4        M6A        North York  Lawrence Heights"
                    }, 
                    "output_type": "execute_result"
                }
            ], 
            "source": "# create empty dataframe\ndf_raw = pd.DataFrame(columns=mycolumns)\n\n## extract all rows\nrows = mytable.find_all('tr')\n\n## write to df\nfor row in rows:\n    line = ''\n    cells = row.find_all('td')\n    \n    # no cells in header (<th>!!)\n    if cells:\n        P = cells[0].get_text().strip()\n        B = cells[1].get_text().strip()\n        N = cells[2].get_text().strip()\n        #print(P + '\\t' + B + '\\t' + N)\n        \n        # add to df_raw only if Borough is assigned\n        if B != 'Not assigned':\n            df_raw.loc[len(df_raw)] = [ P, B, N]\n\n# show df_raw\ndf_raw.head()\n"
        }, 
        {
            "source": "Show the shape of the df", 
            "cell_type": "markdown", 
            "metadata": {}
        }, 
        {
            "execution_count": 5, 
            "cell_type": "code", 
            "metadata": {}, 
            "outputs": [
                {
                    "execution_count": 5, 
                    "metadata": {}, 
                    "data": {
                        "text/plain": "(212, 3)"
                    }, 
                    "output_type": "execute_result"
                }
            ], 
            "source": "df_raw.shape"
        }, 
        {
            "source": "Show number of unique postal codes", 
            "cell_type": "markdown", 
            "metadata": {}
        }, 
        {
            "execution_count": 6, 
            "cell_type": "code", 
            "metadata": {}, 
            "outputs": [
                {
                    "execution_count": 6, 
                    "metadata": {}, 
                    "data": {
                        "text/plain": "103"
                    }, 
                    "output_type": "execute_result"
                }
            ], 
            "source": "# unique() returns array; shape[0] is number of rows\ndf_raw['PostalCode'].unique().shape[0]"
        }, 
        {
            "source": "Extract the PostalCodes to iterate over in next step", 
            "cell_type": "markdown", 
            "metadata": {}
        }, 
        {
            "execution_count": 7, 
            "cell_type": "code", 
            "metadata": {}, 
            "outputs": [
                {
                    "execution_count": 7, 
                    "metadata": {}, 
                    "data": {
                        "text/plain": "array(['M3A', 'M4A', 'M5A', 'M6A', 'M7A'], dtype=object)"
                    }, 
                    "output_type": "execute_result"
                }
            ], 
            "source": "TPCodes = df_raw['PostalCode'].unique()\nTPCodes[0:5]"
        }, 
        {
            "source": "## Main Loop", 
            "cell_type": "markdown", 
            "metadata": {}
        }, 
        {
            "source": "This is the main part where the heavy lifting is done:\n- copying data for each postalCode\n- aggregating the Neighborhoods", 
            "cell_type": "markdown", 
            "metadata": {}
        }, 
        {
            "execution_count": 8, 
            "cell_type": "code", 
            "metadata": {
                "scrolled": true
            }, 
            "outputs": [
                {
                    "execution_count": 8, 
                    "metadata": {}, 
                    "data": {
                        "text/html": "<div>\n<style scoped>\n    .dataframe tbody tr th:only-of-type {\n        vertical-align: middle;\n    }\n\n    .dataframe tbody tr th {\n        vertical-align: top;\n    }\n\n    .dataframe thead th {\n        text-align: right;\n    }\n</style>\n<table border=\"1\" class=\"dataframe\">\n  <thead>\n    <tr style=\"text-align: right;\">\n      <th></th>\n      <th>PostalCode</th>\n      <th>Borough</th>\n      <th>Neighborhood</th>\n    </tr>\n  </thead>\n  <tbody>\n    <tr>\n      <th>0</th>\n      <td>M3A</td>\n      <td>North York</td>\n      <td>Parkwoods</td>\n    </tr>\n    <tr>\n      <th>1</th>\n      <td>M4A</td>\n      <td>North York</td>\n      <td>Victoria Village</td>\n    </tr>\n    <tr>\n      <th>2</th>\n      <td>M5A</td>\n      <td>Downtown Toronto</td>\n      <td>Harbourfront,Regent Park</td>\n    </tr>\n    <tr>\n      <th>3</th>\n      <td>M6A</td>\n      <td>North York</td>\n      <td>Lawrence Heights,Lawrence Manor</td>\n    </tr>\n    <tr>\n      <th>4</th>\n      <td>M7A</td>\n      <td>Queen's Park</td>\n      <td>Queen's Park</td>\n    </tr>\n    <tr>\n      <th>5</th>\n      <td>M9A</td>\n      <td>Etobicoke</td>\n      <td>Islington Avenue</td>\n    </tr>\n    <tr>\n      <th>6</th>\n      <td>M1B</td>\n      <td>Scarborough</td>\n      <td>Rouge,Malvern</td>\n    </tr>\n    <tr>\n      <th>7</th>\n      <td>M3B</td>\n      <td>North York</td>\n      <td>Don Mills North</td>\n    </tr>\n    <tr>\n      <th>8</th>\n      <td>M4B</td>\n      <td>East York</td>\n      <td>Woodbine Gardens,Parkview Hill</td>\n    </tr>\n    <tr>\n      <th>9</th>\n      <td>M5B</td>\n      <td>Downtown Toronto</td>\n      <td>Ryerson,Garden District</td>\n    </tr>\n    <tr>\n      <th>10</th>\n      <td>M6B</td>\n      <td>North York</td>\n      <td>Glencairn</td>\n    </tr>\n    <tr>\n      <th>11</th>\n      <td>M9B</td>\n      <td>Etobicoke</td>\n      <td>Cloverdale,Islington,Martin Grove,Princess Gar...</td>\n    </tr>\n    <tr>\n      <th>12</th>\n      <td>M1C</td>\n      <td>Scarborough</td>\n      <td>Highland Creek,Rouge Hill,Port Union</td>\n    </tr>\n    <tr>\n      <th>13</th>\n      <td>M3C</td>\n      <td>North York</td>\n      <td>Flemingdon Park,Don Mills South</td>\n    </tr>\n    <tr>\n      <th>14</th>\n      <td>M4C</td>\n      <td>East York</td>\n      <td>Woodbine Heights</td>\n    </tr>\n    <tr>\n      <th>15</th>\n      <td>M5C</td>\n      <td>Downtown Toronto</td>\n      <td>St. James Town</td>\n    </tr>\n    <tr>\n      <th>16</th>\n      <td>M6C</td>\n      <td>York</td>\n      <td>Humewood-Cedarvale</td>\n    </tr>\n    <tr>\n      <th>17</th>\n      <td>M9C</td>\n      <td>Etobicoke</td>\n      <td>Bloordale Gardens,Eringate,Markland Wood,Old B...</td>\n    </tr>\n    <tr>\n      <th>18</th>\n      <td>M1E</td>\n      <td>Scarborough</td>\n      <td>Guildwood,Morningside,West Hill</td>\n    </tr>\n    <tr>\n      <th>19</th>\n      <td>M4E</td>\n      <td>East Toronto</td>\n      <td>The Beaches</td>\n    </tr>\n    <tr>\n      <th>20</th>\n      <td>M5E</td>\n      <td>Downtown Toronto</td>\n      <td>Berczy Park</td>\n    </tr>\n    <tr>\n      <th>21</th>\n      <td>M6E</td>\n      <td>York</td>\n      <td>Caledonia-Fairbanks</td>\n    </tr>\n    <tr>\n      <th>22</th>\n      <td>M1G</td>\n      <td>Scarborough</td>\n      <td>Woburn</td>\n    </tr>\n    <tr>\n      <th>23</th>\n      <td>M4G</td>\n      <td>East York</td>\n      <td>Leaside</td>\n    </tr>\n    <tr>\n      <th>24</th>\n      <td>M5G</td>\n      <td>Downtown Toronto</td>\n      <td>Central Bay Street</td>\n    </tr>\n    <tr>\n      <th>25</th>\n      <td>M6G</td>\n      <td>Downtown Toronto</td>\n      <td>Christie</td>\n    </tr>\n    <tr>\n      <th>26</th>\n      <td>M1H</td>\n      <td>Scarborough</td>\n      <td>Cedarbrae</td>\n    </tr>\n    <tr>\n      <th>27</th>\n      <td>M2H</td>\n      <td>North York</td>\n      <td>Hillcrest Village</td>\n    </tr>\n    <tr>\n      <th>28</th>\n      <td>M3H</td>\n      <td>North York</td>\n      <td>Bathurst Manor,Downsview North,Wilson Heights</td>\n    </tr>\n    <tr>\n      <th>29</th>\n      <td>M4H</td>\n      <td>East York</td>\n      <td>Thorncliffe Park</td>\n    </tr>\n    <tr>\n      <th>...</th>\n      <td>...</td>\n      <td>...</td>\n      <td>...</td>\n    </tr>\n    <tr>\n      <th>73</th>\n      <td>M4R</td>\n      <td>Central Toronto</td>\n      <td>North Toronto West</td>\n    </tr>\n    <tr>\n      <th>74</th>\n      <td>M5R</td>\n      <td>Central Toronto</td>\n      <td>The Annex,North Midtown,Yorkville</td>\n    </tr>\n    <tr>\n      <th>75</th>\n      <td>M6R</td>\n      <td>West Toronto</td>\n      <td>Parkdale,Roncesvalles</td>\n    </tr>\n    <tr>\n      <th>76</th>\n      <td>M7R</td>\n      <td>Mississauga</td>\n      <td>Canada Post Gateway Processing Centre</td>\n    </tr>\n    <tr>\n      <th>77</th>\n      <td>M9R</td>\n      <td>Etobicoke</td>\n      <td>Kingsview Village,Martin Grove Gardens,Richvie...</td>\n    </tr>\n    <tr>\n      <th>78</th>\n      <td>M1S</td>\n      <td>Scarborough</td>\n      <td>Agincourt</td>\n    </tr>\n    <tr>\n      <th>79</th>\n      <td>M4S</td>\n      <td>Central Toronto</td>\n      <td>Davisville</td>\n    </tr>\n    <tr>\n      <th>80</th>\n      <td>M5S</td>\n      <td>Downtown Toronto</td>\n      <td>Harbord,University of Toronto</td>\n    </tr>\n    <tr>\n      <th>81</th>\n      <td>M6S</td>\n      <td>West Toronto</td>\n      <td>Runnymede,Swansea</td>\n    </tr>\n    <tr>\n      <th>82</th>\n      <td>M1T</td>\n      <td>Scarborough</td>\n      <td>Clarks Corners,Sullivan,Tam O'Shanter</td>\n    </tr>\n    <tr>\n      <th>83</th>\n      <td>M4T</td>\n      <td>Central Toronto</td>\n      <td>Moore Park,Summerhill East</td>\n    </tr>\n    <tr>\n      <th>84</th>\n      <td>M5T</td>\n      <td>Downtown Toronto</td>\n      <td>Chinatown,Grange Park,Kensington Market</td>\n    </tr>\n    <tr>\n      <th>85</th>\n      <td>M1V</td>\n      <td>Scarborough</td>\n      <td>Agincourt North,L'Amoreaux East,Milliken,Steel...</td>\n    </tr>\n    <tr>\n      <th>86</th>\n      <td>M4V</td>\n      <td>Central Toronto</td>\n      <td>Deer Park,Forest Hill SE,Rathnelly,South Hill,...</td>\n    </tr>\n    <tr>\n      <th>87</th>\n      <td>M5V</td>\n      <td>Downtown Toronto</td>\n      <td>CN Tower,Bathurst Quay,Island airport,Harbourf...</td>\n    </tr>\n    <tr>\n      <th>88</th>\n      <td>M8V</td>\n      <td>Etobicoke</td>\n      <td>Humber Bay Shores,Mimico South,New Toronto</td>\n    </tr>\n    <tr>\n      <th>89</th>\n      <td>M9V</td>\n      <td>Etobicoke</td>\n      <td>Albion Gardens,Beaumond Heights,Humbergate,Jam...</td>\n    </tr>\n    <tr>\n      <th>90</th>\n      <td>M1W</td>\n      <td>Scarborough</td>\n      <td>L'Amoreaux West,Steeles West</td>\n    </tr>\n    <tr>\n      <th>91</th>\n      <td>M4W</td>\n      <td>Downtown Toronto</td>\n      <td>Rosedale</td>\n    </tr>\n    <tr>\n      <th>92</th>\n      <td>M5W</td>\n      <td>Downtown Toronto</td>\n      <td>Stn A PO Boxes 25 The Esplanade</td>\n    </tr>\n    <tr>\n      <th>93</th>\n      <td>M8W</td>\n      <td>Etobicoke</td>\n      <td>Alderwood,Long Branch</td>\n    </tr>\n    <tr>\n      <th>94</th>\n      <td>M9W</td>\n      <td>Etobicoke</td>\n      <td>Northwest</td>\n    </tr>\n    <tr>\n      <th>95</th>\n      <td>M1X</td>\n      <td>Scarborough</td>\n      <td>Upper Rouge</td>\n    </tr>\n    <tr>\n      <th>96</th>\n      <td>M4X</td>\n      <td>Downtown Toronto</td>\n      <td>Cabbagetown,St. James Town</td>\n    </tr>\n    <tr>\n      <th>97</th>\n      <td>M5X</td>\n      <td>Downtown Toronto</td>\n      <td>First Canadian Place,Underground city</td>\n    </tr>\n    <tr>\n      <th>98</th>\n      <td>M8X</td>\n      <td>Etobicoke</td>\n      <td>The Kingsway,Montgomery Road,Old Mill North</td>\n    </tr>\n    <tr>\n      <th>99</th>\n      <td>M4Y</td>\n      <td>Downtown Toronto</td>\n      <td>Church and Wellesley</td>\n    </tr>\n    <tr>\n      <th>100</th>\n      <td>M7Y</td>\n      <td>East Toronto</td>\n      <td>Business reply mail Processing Centre969 Eastern</td>\n    </tr>\n    <tr>\n      <th>101</th>\n      <td>M8Y</td>\n      <td>Etobicoke</td>\n      <td>Humber Bay,King's Mill Park,Kingsway Park Sout...</td>\n    </tr>\n    <tr>\n      <th>102</th>\n      <td>M8Z</td>\n      <td>Etobicoke</td>\n      <td>Kingsway Park South West,Mimico NW,The Queensw...</td>\n    </tr>\n  </tbody>\n</table>\n<p>103 rows \u00d7 3 columns</p>\n</div>", 
                        "text/plain": "    PostalCode           Borough  \\\n0          M3A        North York   \n1          M4A        North York   \n2          M5A  Downtown Toronto   \n3          M6A        North York   \n4          M7A      Queen's Park   \n5          M9A         Etobicoke   \n6          M1B       Scarborough   \n7          M3B        North York   \n8          M4B         East York   \n9          M5B  Downtown Toronto   \n10         M6B        North York   \n11         M9B         Etobicoke   \n12         M1C       Scarborough   \n13         M3C        North York   \n14         M4C         East York   \n15         M5C  Downtown Toronto   \n16         M6C              York   \n17         M9C         Etobicoke   \n18         M1E       Scarborough   \n19         M4E      East Toronto   \n20         M5E  Downtown Toronto   \n21         M6E              York   \n22         M1G       Scarborough   \n23         M4G         East York   \n24         M5G  Downtown Toronto   \n25         M6G  Downtown Toronto   \n26         M1H       Scarborough   \n27         M2H        North York   \n28         M3H        North York   \n29         M4H         East York   \n..         ...               ...   \n73         M4R   Central Toronto   \n74         M5R   Central Toronto   \n75         M6R      West Toronto   \n76         M7R       Mississauga   \n77         M9R         Etobicoke   \n78         M1S       Scarborough   \n79         M4S   Central Toronto   \n80         M5S  Downtown Toronto   \n81         M6S      West Toronto   \n82         M1T       Scarborough   \n83         M4T   Central Toronto   \n84         M5T  Downtown Toronto   \n85         M1V       Scarborough   \n86         M4V   Central Toronto   \n87         M5V  Downtown Toronto   \n88         M8V         Etobicoke   \n89         M9V         Etobicoke   \n90         M1W       Scarborough   \n91         M4W  Downtown Toronto   \n92         M5W  Downtown Toronto   \n93         M8W         Etobicoke   \n94         M9W         Etobicoke   \n95         M1X       Scarborough   \n96         M4X  Downtown Toronto   \n97         M5X  Downtown Toronto   \n98         M8X         Etobicoke   \n99         M4Y  Downtown Toronto   \n100        M7Y      East Toronto   \n101        M8Y         Etobicoke   \n102        M8Z         Etobicoke   \n\n                                          Neighborhood  \n0                                            Parkwoods  \n1                                     Victoria Village  \n2                             Harbourfront,Regent Park  \n3                      Lawrence Heights,Lawrence Manor  \n4                                         Queen's Park  \n5                                     Islington Avenue  \n6                                        Rouge,Malvern  \n7                                      Don Mills North  \n8                       Woodbine Gardens,Parkview Hill  \n9                              Ryerson,Garden District  \n10                                           Glencairn  \n11   Cloverdale,Islington,Martin Grove,Princess Gar...  \n12                Highland Creek,Rouge Hill,Port Union  \n13                     Flemingdon Park,Don Mills South  \n14                                    Woodbine Heights  \n15                                      St. James Town  \n16                                  Humewood-Cedarvale  \n17   Bloordale Gardens,Eringate,Markland Wood,Old B...  \n18                     Guildwood,Morningside,West Hill  \n19                                         The Beaches  \n20                                         Berczy Park  \n21                                 Caledonia-Fairbanks  \n22                                              Woburn  \n23                                             Leaside  \n24                                  Central Bay Street  \n25                                            Christie  \n26                                           Cedarbrae  \n27                                   Hillcrest Village  \n28       Bathurst Manor,Downsview North,Wilson Heights  \n29                                    Thorncliffe Park  \n..                                                 ...  \n73                                  North Toronto West  \n74                   The Annex,North Midtown,Yorkville  \n75                               Parkdale,Roncesvalles  \n76               Canada Post Gateway Processing Centre  \n77   Kingsview Village,Martin Grove Gardens,Richvie...  \n78                                           Agincourt  \n79                                          Davisville  \n80                       Harbord,University of Toronto  \n81                                   Runnymede,Swansea  \n82               Clarks Corners,Sullivan,Tam O'Shanter  \n83                          Moore Park,Summerhill East  \n84             Chinatown,Grange Park,Kensington Market  \n85   Agincourt North,L'Amoreaux East,Milliken,Steel...  \n86   Deer Park,Forest Hill SE,Rathnelly,South Hill,...  \n87   CN Tower,Bathurst Quay,Island airport,Harbourf...  \n88          Humber Bay Shores,Mimico South,New Toronto  \n89   Albion Gardens,Beaumond Heights,Humbergate,Jam...  \n90                        L'Amoreaux West,Steeles West  \n91                                            Rosedale  \n92                     Stn A PO Boxes 25 The Esplanade  \n93                               Alderwood,Long Branch  \n94                                           Northwest  \n95                                         Upper Rouge  \n96                          Cabbagetown,St. James Town  \n97               First Canadian Place,Underground city  \n98         The Kingsway,Montgomery Road,Old Mill North  \n99                                Church and Wellesley  \n100   Business reply mail Processing Centre969 Eastern  \n101  Humber Bay,King's Mill Park,Kingsway Park Sout...  \n102  Kingsway Park South West,Mimico NW,The Queensw...  \n\n[103 rows x 3 columns]"
                    }, 
                    "output_type": "execute_result"
                }
            ], 
            "source": "df_grouped = pd.DataFrame(columns=mycolumns)\ndf_grouped\n\nfor TPC in TPCodes:\n    # filter for TPC\n    df_temp = df_raw[df_raw['PostalCode'] == TPC]\n    \n    # set PostalCode & Borough; Borough is 1:1 to PostalCode and therefor unique here \n    P = TPC\n    B = df_temp['Borough'].unique()[0]\n    \n    # aggregate Neighborhoods by using temp df\n    NN   = ''  # empty Neighborhood string\n    cnt  = 1   # set counter for rows in df\n    # get number of rows\n    num_rows = df_temp.shape[0]\n    \n    # iterate over temp df\n    for index,row in df_temp.iterrows():\n        NN = NN + row['Neighborhood']\n        if cnt < num_rows:\n            NN  += ','\n            cnt += 1\n    \n    # if no neighborhood is assigned, take over boroughs name\n    if NN == 'Not assigned':\n        NN = B\n    \n    # add data to new df\n    df_grouped.loc[len(df_grouped)] = [ P, B, NN]\n        \n#     \ndf_grouped\n"
        }, 
        {
            "source": "Finally, the shape of the generated dataframe:", 
            "cell_type": "markdown", 
            "metadata": {}
        }, 
        {
            "execution_count": 9, 
            "cell_type": "code", 
            "metadata": {}, 
            "outputs": [
                {
                    "execution_count": 9, 
                    "metadata": {}, 
                    "data": {
                        "text/plain": "(103, 3)"
                    }, 
                    "output_type": "execute_result"
                }
            ], 
            "source": "df_grouped.shape"
        }, 
        {
            "source": "So far for getting the data.", 
            "cell_type": "markdown", 
            "metadata": {}
        }, 
        {
            "source": "## Step2: enriching with Geo Coords", 
            "cell_type": "markdown", 
            "metadata": {}
        }, 
        {
            "source": "In this par we add longitude  and lattitude to the dataframes rows", 
            "cell_type": "markdown", 
            "metadata": {}
        }, 
        {
            "source": "### install the geocoder library", 
            "cell_type": "markdown", 
            "metadata": {}
        }, 
        {
            "execution_count": 10, 
            "cell_type": "code", 
            "metadata": {}, 
            "outputs": [
                {
                    "output_type": "stream", 
                    "name": "stdout", 
                    "text": "Requirement not upgraded as not directly required: geocoder in /opt/conda/envs/DSX-Python35/lib/python3.5/site-packages\nRequirement not upgraded as not directly required: ratelim in /opt/conda/envs/DSX-Python35/lib/python3.5/site-packages (from geocoder)\nRequirement not upgraded as not directly required: requests in /opt/conda/envs/DSX-Python35/lib/python3.5/site-packages (from geocoder)\nRequirement not upgraded as not directly required: click in /opt/conda/envs/DSX-Python35/lib/python3.5/site-packages (from geocoder)\nRequirement not upgraded as not directly required: six in /opt/conda/envs/DSX-Python35/lib/python3.5/site-packages (from geocoder)\nRequirement not upgraded as not directly required: future in /opt/conda/envs/DSX-Python35/lib/python3.5/site-packages (from geocoder)\nRequirement not upgraded as not directly required: decorator in /opt/conda/envs/DSX-Python35/lib/python3.5/site-packages (from ratelim->geocoder)\nRequirement not upgraded as not directly required: chardet<3.1.0,>=3.0.2 in /opt/conda/envs/DSX-Python35/lib/python3.5/site-packages (from requests->geocoder)\nRequirement not upgraded as not directly required: idna<2.7,>=2.5 in /opt/conda/envs/DSX-Python35/lib/python3.5/site-packages (from requests->geocoder)\nRequirement not upgraded as not directly required: urllib3<1.23,>=1.21.1 in /opt/conda/envs/DSX-Python35/lib/python3.5/site-packages (from requests->geocoder)\nRequirement not upgraded as not directly required: certifi>=2017.4.17 in /opt/conda/envs/DSX-Python35/lib/python3.5/site-packages (from requests->geocoder)\n\n**** installed geocoder ****\n\n"
                }
            ], 
            "source": "\n!pip install geocoder\nimport geocoder # import geocoder\n\nprint('\\n**** installed geocoder ****\\n')"
        }, 
        {
            "source": "### define a function for retrieving long&lattm", 
            "cell_type": "markdown", 
            "metadata": {}
        }, 
        {
            "execution_count": 11, 
            "cell_type": "code", 
            "metadata": {}, 
            "outputs": [
                {
                    "output_type": "stream", 
                    "name": "stdout", 
                    "text": "defined function\n"
                }
            ], 
            "source": "\ndef fn_get_lattlong(postal_code):\n\n  # initialize your variable to None\n  lat_lng_coords = None\n\n  # loop until you get the coordinates\n  while(lat_lng_coords is None):\n    g = geocoder.google('{}, Toronto, Ontario'.format(postal_code))\n    lat_lng_coords = g.latlng\n    sys.stdout.write('.')\n\n  latitude  = lat_lng_coords[0]\n  longitude = lat_lng_coords[1]\n  return latitude,longitude\n\nprint('defined function')"
        }, 
        {
            "source": "#### The next step _would_ get the coordinates from Google but GeoCoder always returned _None_ in m case", 
            "cell_type": "markdown", 
            "metadata": {}
        }, 
        {
            "source": "for index,row in df_grouped.iterrows():\n    # show PostalCode we're working on to indicate progress\n    sys.stdout.write( row['PostalCode'] + ' ' )\n    # get coords\n    latt,long = fn_get_lattlong( row['PostalCode'] )\n    # save to df\n    row['Latitude']  = latt\n    row['Longitude'] = long\n    ", 
            "cell_type": "raw", 
            "metadata": {}
        }, 
        {
            "source": "#### Instead,  I'm using the CSV file provided by Coursera", 
            "cell_type": "markdown", 
            "metadata": {}
        }, 
        {
            "source": "Prepare CSV working", 
            "cell_type": "markdown", 
            "metadata": {}
        }, 
        {
            "execution_count": 12, 
            "cell_type": "code", 
            "metadata": {}, 
            "outputs": [], 
            "source": "import csv\ncsv_url ='https://cocl.us/Geospatial_data'"
        }, 
        {
            "source": "Load data into separate dataframe", 
            "cell_type": "markdown", 
            "metadata": {}
        }, 
        {
            "execution_count": null, 
            "cell_type": "code", 
            "metadata": {}, 
            "outputs": [], 
            "source": "df_csv = pd.read_csv( csv_url )\ndf_csv.head()"
        }, 
        {
            "source": "#### add new column and fill with default", 
            "cell_type": "markdown", 
            "metadata": {}
        }, 
        {
            "execution_count": null, 
            "cell_type": "code", 
            "metadata": {}, 
            "outputs": [], 
            "source": "\ndf_grouped['Latitude']  = 0.0\ndf_grouped['Longitude'] = 0.0\n"
        }, 
        {
            "source": "Iterate over grouped dataframe and copy long/latt from csv data\n\n", 
            "cell_type": "markdown", 
            "metadata": {}
        }, 
        {
            "execution_count": null, 
            "cell_type": "code", 
            "metadata": {}, 
            "outputs": [], 
            "source": "\nfor index,row in df_grouped.iterrows():\n    pc = row['PostalCode']\n    # show PostalCode we're working on to indicate progress\n    #sys.stdout.write( pc + ' ' )\n    \n    # get coords and save to df_grouped\n    latt = df_csv.loc[ df_csv['Postal Code'] == pc ]['Latitude'].values[0]\n    long = df_csv.loc[ df_csv['Postal Code'] == pc ]['Longitude'].values[0]\n    \n    # set values in grouped df\n    df_grouped.loc[ df_grouped['PostalCode'] == pc, 'Latitude' ]  = latt\n    df_grouped.loc[ df_grouped['PostalCode'] == pc, 'Longitude' ] = long\n\n\n"
        }, 
        {
            "source": "## Here we are:", 
            "cell_type": "markdown", 
            "metadata": {}
        }, 
        {
            "execution_count": null, 
            "cell_type": "code", 
            "metadata": {}, 
            "outputs": [], 
            "source": "df_grouped.head()"
        }, 
        {
            "execution_count": null, 
            "cell_type": "code", 
            "metadata": {}, 
            "outputs": [], 
            "source": ""
        }, 
        {
            "execution_count": null, 
            "cell_type": "code", 
            "metadata": {}, 
            "outputs": [], 
            "source": ""
        }
    ], 
    "metadata": {
        "kernelspec": {
            "display_name": "Python 3.5", 
            "name": "python3", 
            "language": "python"
        }, 
        "language_info": {
            "mimetype": "text/x-python", 
            "nbconvert_exporter": "python", 
            "version": "3.5.5", 
            "name": "python", 
            "file_extension": ".py", 
            "pygments_lexer": "ipython3", 
            "codemirror_mode": {
                "version": 3, 
                "name": "ipython"
            }
        }
    }, 
    "nbformat": 4
}