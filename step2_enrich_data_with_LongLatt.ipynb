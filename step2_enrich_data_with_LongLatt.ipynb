{
    "nbformat_minor": 1, 
    "cells": [
        {
            "source": "## Notebook for scraping wiki page for toronto data", 
            "cell_type": "markdown", 
            "metadata": {
                "collapsed": true
            }
        }, 
        {
            "source": "In this notebook, I'm scraping the Toronto Postal Codes from a wiki page for a Coursera course (see link below). The following tasks are done:\n\n- read the wiki page and load it into a BeautifulSoup object\n- parse the BS object and extract the data from the html table while writing it to a first dataframe\n- then iterate over that df and copy the data while grouping the neighborhoods over the boroughs\n\nref.: https://www.coursera.org/learn/applied-data-science-capstone\n", 
            "cell_type": "markdown", 
            "metadata": {}
        }, 
        {
            "source": "First, some basic settings:", 
            "cell_type": "markdown", 
            "metadata": {}
        }, 
        {
            "execution_count": 20, 
            "cell_type": "code", 
            "metadata": {}, 
            "outputs": [], 
            "source": "# where to find the toronto data\nwiki_url ='https://en.wikipedia.org/wiki/List_of_postal_codes_of_Canada:_M'\n\n# column names for target dataframe\nmycolumns = ['PostalCode', 'Borough','Neighborhood']\n"
        }, 
        {
            "source": "Now import the libraries needed", 
            "cell_type": "markdown", 
            "metadata": {}
        }, 
        {
            "execution_count": 21, 
            "cell_type": "code", 
            "metadata": {}, 
            "outputs": [
                {
                    "output_type": "stream", 
                    "name": "stdout", 
                    "text": "libaries imported\n"
                }
            ], 
            "source": "##\n## import libraries\n##\nimport pandas as pd\nimport sys\nimport urllib\nimport urllib.request\nfrom bs4 import BeautifulSoup\nprint('libaries imported')"
        }, 
        {
            "source": "## The scraping part", 
            "cell_type": "markdown", 
            "metadata": {}
        }, 
        {
            "source": "Load the html page", 
            "cell_type": "markdown", 
            "metadata": {}
        }, 
        {
            "execution_count": 22, 
            "cell_type": "code", 
            "metadata": {}, 
            "outputs": [
                {
                    "output_type": "stream", 
                    "name": "stdout", 
                    "text": "<table class=\"wikitable sortable\">\n<tbody><tr>\n<th>Postcode</th>\n<th>Borough</th>\n<th>Neighbourhood\n</th></tr>\n\n"
                }
            ], 
            "source": "soup = BeautifulSoup(\n       urllib.request.urlopen( wiki_url ).read(),\n       'html.parser'\n       )\n\n## table is <table class=\"wikitable sortable\">\nmytable = soup.findAll('table',{'class':'wikitable'})[0]\n\n# check first bytes\nprint( str(mytable)[0:111] )\n"
        }, 
        {
            "source": "#### Copy the data into a pandas df", 
            "cell_type": "markdown", 
            "metadata": {}
        }, 
        {
            "source": "- find all rows (tr)\n- in each row, find the cells (td)\n- extract the text and strip appending newlines\n- if not 'Not assigned', copy to df", 
            "cell_type": "markdown", 
            "metadata": {}
        }, 
        {
            "execution_count": 23, 
            "cell_type": "code", 
            "metadata": {
                "scrolled": true
            }, 
            "outputs": [
                {
                    "execution_count": 23, 
                    "metadata": {}, 
                    "data": {
                        "text/html": "<div>\n<style scoped>\n    .dataframe tbody tr th:only-of-type {\n        vertical-align: middle;\n    }\n\n    .dataframe tbody tr th {\n        vertical-align: top;\n    }\n\n    .dataframe thead th {\n        text-align: right;\n    }\n</style>\n<table border=\"1\" class=\"dataframe\">\n  <thead>\n    <tr style=\"text-align: right;\">\n      <th></th>\n      <th>PostalCode</th>\n      <th>Borough</th>\n      <th>Neighborhood</th>\n    </tr>\n  </thead>\n  <tbody>\n    <tr>\n      <th>0</th>\n      <td>M3A</td>\n      <td>North York</td>\n      <td>Parkwoods</td>\n    </tr>\n    <tr>\n      <th>1</th>\n      <td>M4A</td>\n      <td>North York</td>\n      <td>Victoria Village</td>\n    </tr>\n    <tr>\n      <th>2</th>\n      <td>M5A</td>\n      <td>Downtown Toronto</td>\n      <td>Harbourfront</td>\n    </tr>\n    <tr>\n      <th>3</th>\n      <td>M5A</td>\n      <td>Downtown Toronto</td>\n      <td>Regent Park</td>\n    </tr>\n    <tr>\n      <th>4</th>\n      <td>M6A</td>\n      <td>North York</td>\n      <td>Lawrence Heights</td>\n    </tr>\n  </tbody>\n</table>\n</div>", 
                        "text/plain": "  PostalCode           Borough      Neighborhood\n0        M3A        North York         Parkwoods\n1        M4A        North York  Victoria Village\n2        M5A  Downtown Toronto      Harbourfront\n3        M5A  Downtown Toronto       Regent Park\n4        M6A        North York  Lawrence Heights"
                    }, 
                    "output_type": "execute_result"
                }
            ], 
            "source": "# create empty dataframe\ndf_raw = pd.DataFrame(columns=mycolumns)\n\n## extract all rows\nrows = mytable.find_all('tr')\n\n## write to df\nfor row in rows:\n    line = ''\n    cells = row.find_all('td')\n    \n    # no cells in header (<th>!!)\n    if cells:\n        P = cells[0].get_text().strip()\n        B = cells[1].get_text().strip()\n        N = cells[2].get_text().strip()\n        #print(P + '\\t' + B + '\\t' + N)\n        \n        # add to df_raw only if Borough is assigned\n        if B != 'Not assigned':\n            df_raw.loc[len(df_raw)] = [ P, B, N]\n\n# show df_raw\ndf_raw.head()\n"
        }, 
        {
            "source": "Show the shape of the df", 
            "cell_type": "markdown", 
            "metadata": {}
        }, 
        {
            "execution_count": 24, 
            "cell_type": "code", 
            "metadata": {}, 
            "outputs": [
                {
                    "execution_count": 24, 
                    "metadata": {}, 
                    "data": {
                        "text/plain": "(212, 3)"
                    }, 
                    "output_type": "execute_result"
                }
            ], 
            "source": "df_raw.shape"
        }, 
        {
            "source": "Show number of unique postal codes", 
            "cell_type": "markdown", 
            "metadata": {}
        }, 
        {
            "execution_count": 25, 
            "cell_type": "code", 
            "metadata": {}, 
            "outputs": [
                {
                    "execution_count": 25, 
                    "metadata": {}, 
                    "data": {
                        "text/plain": "103"
                    }, 
                    "output_type": "execute_result"
                }
            ], 
            "source": "# unique() returns array; shape[0] is number of rows\ndf_raw['PostalCode'].unique().shape[0]"
        }, 
        {
            "source": "Extract the PostalCodes to iterate over in next step", 
            "cell_type": "markdown", 
            "metadata": {}
        }, 
        {
            "execution_count": 26, 
            "cell_type": "code", 
            "metadata": {}, 
            "outputs": [
                {
                    "execution_count": 26, 
                    "metadata": {}, 
                    "data": {
                        "text/plain": "array(['M3A', 'M4A', 'M5A', 'M6A', 'M7A'], dtype=object)"
                    }, 
                    "output_type": "execute_result"
                }
            ], 
            "source": "TPCodes = df_raw['PostalCode'].unique()\nTPCodes[0:5]"
        }, 
        {
            "source": "## Main Loop", 
            "cell_type": "markdown", 
            "metadata": {}
        }, 
        {
            "source": "This is the main part where the heavy lifting is done:\n- copying data for each postalCode\n- aggregating the Neighborhoods", 
            "cell_type": "markdown", 
            "metadata": {}
        }, 
        {
            "execution_count": 27, 
            "cell_type": "code", 
            "metadata": {
                "scrolled": true
            }, 
            "outputs": [
                {
                    "execution_count": 27, 
                    "metadata": {}, 
                    "data": {
                        "text/html": "<div>\n<style scoped>\n    .dataframe tbody tr th:only-of-type {\n        vertical-align: middle;\n    }\n\n    .dataframe tbody tr th {\n        vertical-align: top;\n    }\n\n    .dataframe thead th {\n        text-align: right;\n    }\n</style>\n<table border=\"1\" class=\"dataframe\">\n  <thead>\n    <tr style=\"text-align: right;\">\n      <th></th>\n      <th>PostalCode</th>\n      <th>Borough</th>\n      <th>Neighborhood</th>\n    </tr>\n  </thead>\n  <tbody>\n    <tr>\n      <th>0</th>\n      <td>M3A</td>\n      <td>North York</td>\n      <td>Parkwoods</td>\n    </tr>\n    <tr>\n      <th>1</th>\n      <td>M4A</td>\n      <td>North York</td>\n      <td>Victoria Village</td>\n    </tr>\n    <tr>\n      <th>2</th>\n      <td>M5A</td>\n      <td>Downtown Toronto</td>\n      <td>Harbourfront,Regent Park</td>\n    </tr>\n    <tr>\n      <th>3</th>\n      <td>M6A</td>\n      <td>North York</td>\n      <td>Lawrence Heights,Lawrence Manor</td>\n    </tr>\n    <tr>\n      <th>4</th>\n      <td>M7A</td>\n      <td>Queen's Park</td>\n      <td>Queen's Park</td>\n    </tr>\n    <tr>\n      <th>5</th>\n      <td>M9A</td>\n      <td>Etobicoke</td>\n      <td>Islington Avenue</td>\n    </tr>\n    <tr>\n      <th>6</th>\n      <td>M1B</td>\n      <td>Scarborough</td>\n      <td>Rouge,Malvern</td>\n    </tr>\n    <tr>\n      <th>7</th>\n      <td>M3B</td>\n      <td>North York</td>\n      <td>Don Mills North</td>\n    </tr>\n    <tr>\n      <th>8</th>\n      <td>M4B</td>\n      <td>East York</td>\n      <td>Woodbine Gardens,Parkview Hill</td>\n    </tr>\n    <tr>\n      <th>9</th>\n      <td>M5B</td>\n      <td>Downtown Toronto</td>\n      <td>Ryerson,Garden District</td>\n    </tr>\n    <tr>\n      <th>10</th>\n      <td>M6B</td>\n      <td>North York</td>\n      <td>Glencairn</td>\n    </tr>\n    <tr>\n      <th>11</th>\n      <td>M9B</td>\n      <td>Etobicoke</td>\n      <td>Cloverdale,Islington,Martin Grove,Princess Gar...</td>\n    </tr>\n    <tr>\n      <th>12</th>\n      <td>M1C</td>\n      <td>Scarborough</td>\n      <td>Highland Creek,Rouge Hill,Port Union</td>\n    </tr>\n    <tr>\n      <th>13</th>\n      <td>M3C</td>\n      <td>North York</td>\n      <td>Flemingdon Park,Don Mills South</td>\n    </tr>\n    <tr>\n      <th>14</th>\n      <td>M4C</td>\n      <td>East York</td>\n      <td>Woodbine Heights</td>\n    </tr>\n    <tr>\n      <th>15</th>\n      <td>M5C</td>\n      <td>Downtown Toronto</td>\n      <td>St. James Town</td>\n    </tr>\n    <tr>\n      <th>16</th>\n      <td>M6C</td>\n      <td>York</td>\n      <td>Humewood-Cedarvale</td>\n    </tr>\n    <tr>\n      <th>17</th>\n      <td>M9C</td>\n      <td>Etobicoke</td>\n      <td>Bloordale Gardens,Eringate,Markland Wood,Old B...</td>\n    </tr>\n    <tr>\n      <th>18</th>\n      <td>M1E</td>\n      <td>Scarborough</td>\n      <td>Guildwood,Morningside,West Hill</td>\n    </tr>\n    <tr>\n      <th>19</th>\n      <td>M4E</td>\n      <td>East Toronto</td>\n      <td>The Beaches</td>\n    </tr>\n    <tr>\n      <th>20</th>\n      <td>M5E</td>\n      <td>Downtown Toronto</td>\n      <td>Berczy Park</td>\n    </tr>\n    <tr>\n      <th>21</th>\n      <td>M6E</td>\n      <td>York</td>\n      <td>Caledonia-Fairbanks</td>\n    </tr>\n    <tr>\n      <th>22</th>\n      <td>M1G</td>\n      <td>Scarborough</td>\n      <td>Woburn</td>\n    </tr>\n    <tr>\n      <th>23</th>\n      <td>M4G</td>\n      <td>East York</td>\n      <td>Leaside</td>\n    </tr>\n    <tr>\n      <th>24</th>\n      <td>M5G</td>\n      <td>Downtown Toronto</td>\n      <td>Central Bay Street</td>\n    </tr>\n    <tr>\n      <th>25</th>\n      <td>M6G</td>\n      <td>Downtown Toronto</td>\n      <td>Christie</td>\n    </tr>\n    <tr>\n      <th>26</th>\n      <td>M1H</td>\n      <td>Scarborough</td>\n      <td>Cedarbrae</td>\n    </tr>\n    <tr>\n      <th>27</th>\n      <td>M2H</td>\n      <td>North York</td>\n      <td>Hillcrest Village</td>\n    </tr>\n    <tr>\n      <th>28</th>\n      <td>M3H</td>\n      <td>North York</td>\n      <td>Bathurst Manor,Downsview North,Wilson Heights</td>\n    </tr>\n    <tr>\n      <th>29</th>\n      <td>M4H</td>\n      <td>East York</td>\n      <td>Thorncliffe Park</td>\n    </tr>\n    <tr>\n      <th>...</th>\n      <td>...</td>\n      <td>...</td>\n      <td>...</td>\n    </tr>\n    <tr>\n      <th>73</th>\n      <td>M4R</td>\n      <td>Central Toronto</td>\n      <td>North Toronto West</td>\n    </tr>\n    <tr>\n      <th>74</th>\n      <td>M5R</td>\n      <td>Central Toronto</td>\n      <td>The Annex,North Midtown,Yorkville</td>\n    </tr>\n    <tr>\n      <th>75</th>\n      <td>M6R</td>\n      <td>West Toronto</td>\n      <td>Parkdale,Roncesvalles</td>\n    </tr>\n    <tr>\n      <th>76</th>\n      <td>M7R</td>\n      <td>Mississauga</td>\n      <td>Canada Post Gateway Processing Centre</td>\n    </tr>\n    <tr>\n      <th>77</th>\n      <td>M9R</td>\n      <td>Etobicoke</td>\n      <td>Kingsview Village,Martin Grove Gardens,Richvie...</td>\n    </tr>\n    <tr>\n      <th>78</th>\n      <td>M1S</td>\n      <td>Scarborough</td>\n      <td>Agincourt</td>\n    </tr>\n    <tr>\n      <th>79</th>\n      <td>M4S</td>\n      <td>Central Toronto</td>\n      <td>Davisville</td>\n    </tr>\n    <tr>\n      <th>80</th>\n      <td>M5S</td>\n      <td>Downtown Toronto</td>\n      <td>Harbord,University of Toronto</td>\n    </tr>\n    <tr>\n      <th>81</th>\n      <td>M6S</td>\n      <td>West Toronto</td>\n      <td>Runnymede,Swansea</td>\n    </tr>\n    <tr>\n      <th>82</th>\n      <td>M1T</td>\n      <td>Scarborough</td>\n      <td>Clarks Corners,Sullivan,Tam O'Shanter</td>\n    </tr>\n    <tr>\n      <th>83</th>\n      <td>M4T</td>\n      <td>Central Toronto</td>\n      <td>Moore Park,Summerhill East</td>\n    </tr>\n    <tr>\n      <th>84</th>\n      <td>M5T</td>\n      <td>Downtown Toronto</td>\n      <td>Chinatown,Grange Park,Kensington Market</td>\n    </tr>\n    <tr>\n      <th>85</th>\n      <td>M1V</td>\n      <td>Scarborough</td>\n      <td>Agincourt North,L'Amoreaux East,Milliken,Steel...</td>\n    </tr>\n    <tr>\n      <th>86</th>\n      <td>M4V</td>\n      <td>Central Toronto</td>\n      <td>Deer Park,Forest Hill SE,Rathnelly,South Hill,...</td>\n    </tr>\n    <tr>\n      <th>87</th>\n      <td>M5V</td>\n      <td>Downtown Toronto</td>\n      <td>CN Tower,Bathurst Quay,Island airport,Harbourf...</td>\n    </tr>\n    <tr>\n      <th>88</th>\n      <td>M8V</td>\n      <td>Etobicoke</td>\n      <td>Humber Bay Shores,Mimico South,New Toronto</td>\n    </tr>\n    <tr>\n      <th>89</th>\n      <td>M9V</td>\n      <td>Etobicoke</td>\n      <td>Albion Gardens,Beaumond Heights,Humbergate,Jam...</td>\n    </tr>\n    <tr>\n      <th>90</th>\n      <td>M1W</td>\n      <td>Scarborough</td>\n      <td>L'Amoreaux West,Steeles West</td>\n    </tr>\n    <tr>\n      <th>91</th>\n      <td>M4W</td>\n      <td>Downtown Toronto</td>\n      <td>Rosedale</td>\n    </tr>\n    <tr>\n      <th>92</th>\n      <td>M5W</td>\n      <td>Downtown Toronto</td>\n      <td>Stn A PO Boxes 25 The Esplanade</td>\n    </tr>\n    <tr>\n      <th>93</th>\n      <td>M8W</td>\n      <td>Etobicoke</td>\n      <td>Alderwood,Long Branch</td>\n    </tr>\n    <tr>\n      <th>94</th>\n      <td>M9W</td>\n      <td>Etobicoke</td>\n      <td>Northwest</td>\n    </tr>\n    <tr>\n      <th>95</th>\n      <td>M1X</td>\n      <td>Scarborough</td>\n      <td>Upper Rouge</td>\n    </tr>\n    <tr>\n      <th>96</th>\n      <td>M4X</td>\n      <td>Downtown Toronto</td>\n      <td>Cabbagetown,St. James Town</td>\n    </tr>\n    <tr>\n      <th>97</th>\n      <td>M5X</td>\n      <td>Downtown Toronto</td>\n      <td>First Canadian Place,Underground city</td>\n    </tr>\n    <tr>\n      <th>98</th>\n      <td>M8X</td>\n      <td>Etobicoke</td>\n      <td>The Kingsway,Montgomery Road,Old Mill North</td>\n    </tr>\n    <tr>\n      <th>99</th>\n      <td>M4Y</td>\n      <td>Downtown Toronto</td>\n      <td>Church and Wellesley</td>\n    </tr>\n    <tr>\n      <th>100</th>\n      <td>M7Y</td>\n      <td>East Toronto</td>\n      <td>Business reply mail Processing Centre969 Eastern</td>\n    </tr>\n    <tr>\n      <th>101</th>\n      <td>M8Y</td>\n      <td>Etobicoke</td>\n      <td>Humber Bay,King's Mill Park,Kingsway Park Sout...</td>\n    </tr>\n    <tr>\n      <th>102</th>\n      <td>M8Z</td>\n      <td>Etobicoke</td>\n      <td>Kingsway Park South West,Mimico NW,The Queensw...</td>\n    </tr>\n  </tbody>\n</table>\n<p>103 rows \u00d7 3 columns</p>\n</div>", 
                        "text/plain": "    PostalCode           Borough  \\\n0          M3A        North York   \n1          M4A        North York   \n2          M5A  Downtown Toronto   \n3          M6A        North York   \n4          M7A      Queen's Park   \n5          M9A         Etobicoke   \n6          M1B       Scarborough   \n7          M3B        North York   \n8          M4B         East York   \n9          M5B  Downtown Toronto   \n10         M6B        North York   \n11         M9B         Etobicoke   \n12         M1C       Scarborough   \n13         M3C        North York   \n14         M4C         East York   \n15         M5C  Downtown Toronto   \n16         M6C              York   \n17         M9C         Etobicoke   \n18         M1E       Scarborough   \n19         M4E      East Toronto   \n20         M5E  Downtown Toronto   \n21         M6E              York   \n22         M1G       Scarborough   \n23         M4G         East York   \n24         M5G  Downtown Toronto   \n25         M6G  Downtown Toronto   \n26         M1H       Scarborough   \n27         M2H        North York   \n28         M3H        North York   \n29         M4H         East York   \n..         ...               ...   \n73         M4R   Central Toronto   \n74         M5R   Central Toronto   \n75         M6R      West Toronto   \n76         M7R       Mississauga   \n77         M9R         Etobicoke   \n78         M1S       Scarborough   \n79         M4S   Central Toronto   \n80         M5S  Downtown Toronto   \n81         M6S      West Toronto   \n82         M1T       Scarborough   \n83         M4T   Central Toronto   \n84         M5T  Downtown Toronto   \n85         M1V       Scarborough   \n86         M4V   Central Toronto   \n87         M5V  Downtown Toronto   \n88         M8V         Etobicoke   \n89         M9V         Etobicoke   \n90         M1W       Scarborough   \n91         M4W  Downtown Toronto   \n92         M5W  Downtown Toronto   \n93         M8W         Etobicoke   \n94         M9W         Etobicoke   \n95         M1X       Scarborough   \n96         M4X  Downtown Toronto   \n97         M5X  Downtown Toronto   \n98         M8X         Etobicoke   \n99         M4Y  Downtown Toronto   \n100        M7Y      East Toronto   \n101        M8Y         Etobicoke   \n102        M8Z         Etobicoke   \n\n                                          Neighborhood  \n0                                            Parkwoods  \n1                                     Victoria Village  \n2                             Harbourfront,Regent Park  \n3                      Lawrence Heights,Lawrence Manor  \n4                                         Queen's Park  \n5                                     Islington Avenue  \n6                                        Rouge,Malvern  \n7                                      Don Mills North  \n8                       Woodbine Gardens,Parkview Hill  \n9                              Ryerson,Garden District  \n10                                           Glencairn  \n11   Cloverdale,Islington,Martin Grove,Princess Gar...  \n12                Highland Creek,Rouge Hill,Port Union  \n13                     Flemingdon Park,Don Mills South  \n14                                    Woodbine Heights  \n15                                      St. James Town  \n16                                  Humewood-Cedarvale  \n17   Bloordale Gardens,Eringate,Markland Wood,Old B...  \n18                     Guildwood,Morningside,West Hill  \n19                                         The Beaches  \n20                                         Berczy Park  \n21                                 Caledonia-Fairbanks  \n22                                              Woburn  \n23                                             Leaside  \n24                                  Central Bay Street  \n25                                            Christie  \n26                                           Cedarbrae  \n27                                   Hillcrest Village  \n28       Bathurst Manor,Downsview North,Wilson Heights  \n29                                    Thorncliffe Park  \n..                                                 ...  \n73                                  North Toronto West  \n74                   The Annex,North Midtown,Yorkville  \n75                               Parkdale,Roncesvalles  \n76               Canada Post Gateway Processing Centre  \n77   Kingsview Village,Martin Grove Gardens,Richvie...  \n78                                           Agincourt  \n79                                          Davisville  \n80                       Harbord,University of Toronto  \n81                                   Runnymede,Swansea  \n82               Clarks Corners,Sullivan,Tam O'Shanter  \n83                          Moore Park,Summerhill East  \n84             Chinatown,Grange Park,Kensington Market  \n85   Agincourt North,L'Amoreaux East,Milliken,Steel...  \n86   Deer Park,Forest Hill SE,Rathnelly,South Hill,...  \n87   CN Tower,Bathurst Quay,Island airport,Harbourf...  \n88          Humber Bay Shores,Mimico South,New Toronto  \n89   Albion Gardens,Beaumond Heights,Humbergate,Jam...  \n90                        L'Amoreaux West,Steeles West  \n91                                            Rosedale  \n92                     Stn A PO Boxes 25 The Esplanade  \n93                               Alderwood,Long Branch  \n94                                           Northwest  \n95                                         Upper Rouge  \n96                          Cabbagetown,St. James Town  \n97               First Canadian Place,Underground city  \n98         The Kingsway,Montgomery Road,Old Mill North  \n99                                Church and Wellesley  \n100   Business reply mail Processing Centre969 Eastern  \n101  Humber Bay,King's Mill Park,Kingsway Park Sout...  \n102  Kingsway Park South West,Mimico NW,The Queensw...  \n\n[103 rows x 3 columns]"
                    }, 
                    "output_type": "execute_result"
                }
            ], 
            "source": "df_grouped = pd.DataFrame(columns=mycolumns)\ndf_grouped\n\nfor TPC in TPCodes:\n    # filter for TPC\n    df_temp = df_raw[df_raw['PostalCode'] == TPC]\n    \n    # set PostalCode & Borough; Borough is 1:1 to PostalCode and therefor unique here \n    P = TPC\n    B = df_temp['Borough'].unique()[0]\n    \n    # aggregate Neighborhoods by using temp df\n    NN   = ''  # empty Neighborhood string\n    cnt  = 1   # set counter for rows in df\n    # get number of rows\n    num_rows = df_temp.shape[0]\n    \n    # iterate over temp df\n    for index,row in df_temp.iterrows():\n        NN = NN + row['Neighborhood']\n        if cnt < num_rows:\n            NN  += ','\n            cnt += 1\n    \n    # if no neighborhood is assigned, take over boroughs name\n    if NN == 'Not assigned':\n        NN = B\n    \n    # add data to new df\n    df_grouped.loc[len(df_grouped)] = [ P, B, NN]\n        \n#     \ndf_grouped\n"
        }, 
        {
            "source": "Finally, the shape of the generated dataframe:", 
            "cell_type": "markdown", 
            "metadata": {}
        }, 
        {
            "execution_count": 28, 
            "cell_type": "code", 
            "metadata": {}, 
            "outputs": [
                {
                    "execution_count": 28, 
                    "metadata": {}, 
                    "data": {
                        "text/plain": "(103, 3)"
                    }, 
                    "output_type": "execute_result"
                }
            ], 
            "source": "df_grouped.shape"
        }, 
        {
            "source": "So far for getting the data.", 
            "cell_type": "markdown", 
            "metadata": {}
        }, 
        {
            "source": "## Step2: enriching with Geo Coords", 
            "cell_type": "markdown", 
            "metadata": {}
        }, 
        {
            "source": "In this par we add longitude  and lattitude to the dataframes rows", 
            "cell_type": "markdown", 
            "metadata": {}
        }, 
        {
            "source": "### install the geocoder library", 
            "cell_type": "markdown", 
            "metadata": {}
        }, 
        {
            "execution_count": 29, 
            "cell_type": "code", 
            "metadata": {}, 
            "outputs": [
                {
                    "output_type": "stream", 
                    "name": "stdout", 
                    "text": "Requirement not upgraded as not directly required: geocoder in /opt/conda/envs/DSX-Python35/lib/python3.5/site-packages\nRequirement not upgraded as not directly required: ratelim in /opt/conda/envs/DSX-Python35/lib/python3.5/site-packages (from geocoder)\nRequirement not upgraded as not directly required: requests in /opt/conda/envs/DSX-Python35/lib/python3.5/site-packages (from geocoder)\nRequirement not upgraded as not directly required: six in /opt/conda/envs/DSX-Python35/lib/python3.5/site-packages (from geocoder)\nRequirement not upgraded as not directly required: click in /opt/conda/envs/DSX-Python35/lib/python3.5/site-packages (from geocoder)\nRequirement not upgraded as not directly required: future in /opt/conda/envs/DSX-Python35/lib/python3.5/site-packages (from geocoder)\nRequirement not upgraded as not directly required: decorator in /opt/conda/envs/DSX-Python35/lib/python3.5/site-packages (from ratelim->geocoder)\nRequirement not upgraded as not directly required: chardet<3.1.0,>=3.0.2 in /opt/conda/envs/DSX-Python35/lib/python3.5/site-packages (from requests->geocoder)\nRequirement not upgraded as not directly required: idna<2.7,>=2.5 in /opt/conda/envs/DSX-Python35/lib/python3.5/site-packages (from requests->geocoder)\nRequirement not upgraded as not directly required: urllib3<1.23,>=1.21.1 in /opt/conda/envs/DSX-Python35/lib/python3.5/site-packages (from requests->geocoder)\nRequirement not upgraded as not directly required: certifi>=2017.4.17 in /opt/conda/envs/DSX-Python35/lib/python3.5/site-packages (from requests->geocoder)\n\n**** installed geocoder ****\n\n"
                }
            ], 
            "source": "\n!pip install geocoder\nimport geocoder # import geocoder\n\nprint('\\n**** installed geocoder ****\\n')"
        }, 
        {
            "source": "### define a function for retrieving long&lattm", 
            "cell_type": "markdown", 
            "metadata": {}
        }, 
        {
            "execution_count": 30, 
            "cell_type": "code", 
            "metadata": {}, 
            "outputs": [
                {
                    "output_type": "stream", 
                    "name": "stdout", 
                    "text": "defined function\n"
                }
            ], 
            "source": "\ndef fn_get_lattlong(postal_code):\n\n  # initialize your variable to None\n  lat_lng_coords = None\n\n  # loop until you get the coordinates\n  while(lat_lng_coords is None):\n    g = geocoder.google('{}, Toronto, Ontario'.format(postal_code))\n    lat_lng_coords = g.latlng\n    sys.stdout.write('.')\n\n  latitude  = lat_lng_coords[0]\n  longitude = lat_lng_coords[1]\n  return latitude,longitude\n\nprint('defined function')"
        }, 
        {
            "source": "#### The next step _would_ get the coordinates from Google but GeoCoder always returned _None_ in m case", 
            "cell_type": "markdown", 
            "metadata": {}
        }, 
        {
            "source": "for index,row in df_grouped.iterrows():\n    # show PostalCode we're working on to indicate progress\n    sys.stdout.write( row['PostalCode'] + ' ' )\n    # get coords\n    latt,long = fn_get_lattlong( row['PostalCode'] )\n    # save to df\n    row['Latitude']  = latt\n    row['Longitude'] = long\n    ", 
            "cell_type": "raw", 
            "metadata": {}
        }, 
        {
            "source": "#### Instead,  I'm using the CSV file provided by Coursera", 
            "cell_type": "markdown", 
            "metadata": {}
        }, 
        {
            "source": "Prepare CSV working", 
            "cell_type": "markdown", 
            "metadata": {}
        }, 
        {
            "execution_count": 31, 
            "cell_type": "code", 
            "metadata": {}, 
            "outputs": [], 
            "source": "import csv\ncsv_url ='https://cocl.us/Geospatial_data'"
        }, 
        {
            "source": "Load data into separate dataframe", 
            "cell_type": "markdown", 
            "metadata": {}
        }, 
        {
            "execution_count": 32, 
            "cell_type": "code", 
            "metadata": {}, 
            "outputs": [
                {
                    "execution_count": 32, 
                    "metadata": {}, 
                    "data": {
                        "text/html": "<div>\n<style scoped>\n    .dataframe tbody tr th:only-of-type {\n        vertical-align: middle;\n    }\n\n    .dataframe tbody tr th {\n        vertical-align: top;\n    }\n\n    .dataframe thead th {\n        text-align: right;\n    }\n</style>\n<table border=\"1\" class=\"dataframe\">\n  <thead>\n    <tr style=\"text-align: right;\">\n      <th></th>\n      <th>Postal Code</th>\n      <th>Latitude</th>\n      <th>Longitude</th>\n    </tr>\n  </thead>\n  <tbody>\n    <tr>\n      <th>0</th>\n      <td>M1B</td>\n      <td>43.806686</td>\n      <td>-79.194353</td>\n    </tr>\n    <tr>\n      <th>1</th>\n      <td>M1C</td>\n      <td>43.784535</td>\n      <td>-79.160497</td>\n    </tr>\n    <tr>\n      <th>2</th>\n      <td>M1E</td>\n      <td>43.763573</td>\n      <td>-79.188711</td>\n    </tr>\n    <tr>\n      <th>3</th>\n      <td>M1G</td>\n      <td>43.770992</td>\n      <td>-79.216917</td>\n    </tr>\n    <tr>\n      <th>4</th>\n      <td>M1H</td>\n      <td>43.773136</td>\n      <td>-79.239476</td>\n    </tr>\n  </tbody>\n</table>\n</div>", 
                        "text/plain": "  Postal Code   Latitude  Longitude\n0         M1B  43.806686 -79.194353\n1         M1C  43.784535 -79.160497\n2         M1E  43.763573 -79.188711\n3         M1G  43.770992 -79.216917\n4         M1H  43.773136 -79.239476"
                    }, 
                    "output_type": "execute_result"
                }
            ], 
            "source": "df_csv = pd.read_csv( csv_url )\ndf_csv.head()"
        }, 
        {
            "source": "#### add new column and fill with default", 
            "cell_type": "markdown", 
            "metadata": {}
        }, 
        {
            "execution_count": 33, 
            "cell_type": "code", 
            "metadata": {}, 
            "outputs": [], 
            "source": "\ndf_grouped['Latitude']  = 0.0\ndf_grouped['Longitude'] = 0.0\n"
        }, 
        {
            "source": "Iterate over grouped dataframe and copy long/latt from csv data\n\n", 
            "cell_type": "markdown", 
            "metadata": {}
        }, 
        {
            "execution_count": 34, 
            "cell_type": "code", 
            "metadata": {}, 
            "outputs": [
                {
                    "output_type": "stream", 
                    "name": "stdout", 
                    "text": "M3A M4A M5A M6A M7A M9A M1B M3B M4B M5B M6B M9B M1C M3C M4C M5C M6C M9C M1E M4E M5E M6E M1G M4G M5G M6G M1H M2H M3H M4H M5H M6H M1J M2J M3J M4J M5J M6J M1K M2K M3K M4K M5K M6K M1L M2L M3L M4L M5L M6L M9L M1M M2M M3M M4M M5M M6M M9M M1N M2N M3N M4N M5N M6N M9N M1P M2P M4P M5P M6P M9P M1R M2R M4R M5R M6R M7R M9R M1S M4S M5S M6S M1T M4T M5T M1V M4V M5V M8V M9V M1W M4W M5W M8W M9W M1X M4X M5X M8X M4Y M7Y M8Y M8Z "
                }
            ], 
            "source": "\nfor index,row in df_grouped.iterrows():\n    pc = row['PostalCode']\n    # show PostalCode we're working on to indicate progress\n    sys.stdout.write( pc + ' ' )\n    \n    # get coords and save to df_grouped\n    latt = df_csv.loc[ df_csv['Postal Code'] == pc ]['Latitude'].values[0]\n    long = df_csv.loc[ df_csv['Postal Code'] == pc ]['Longitude'].values[0]\n    \n    # set values in grouped df\n    df_grouped.loc[ df_grouped['PostalCode'] == pc, 'Latitude' ]  = latt\n    df_grouped.loc[ df_grouped['PostalCode'] == pc, 'Longitude' ] = long\n\n\n"
        }, 
        {
            "source": "## Here we are:", 
            "cell_type": "markdown", 
            "metadata": {}
        }, 
        {
            "execution_count": 35, 
            "cell_type": "code", 
            "metadata": {}, 
            "outputs": [
                {
                    "execution_count": 35, 
                    "metadata": {}, 
                    "data": {
                        "text/html": "<div>\n<style scoped>\n    .dataframe tbody tr th:only-of-type {\n        vertical-align: middle;\n    }\n\n    .dataframe tbody tr th {\n        vertical-align: top;\n    }\n\n    .dataframe thead th {\n        text-align: right;\n    }\n</style>\n<table border=\"1\" class=\"dataframe\">\n  <thead>\n    <tr style=\"text-align: right;\">\n      <th></th>\n      <th>PostalCode</th>\n      <th>Borough</th>\n      <th>Neighborhood</th>\n      <th>Latitude</th>\n      <th>Longitude</th>\n    </tr>\n  </thead>\n  <tbody>\n    <tr>\n      <th>0</th>\n      <td>M3A</td>\n      <td>North York</td>\n      <td>Parkwoods</td>\n      <td>43.753259</td>\n      <td>-79.329656</td>\n    </tr>\n    <tr>\n      <th>1</th>\n      <td>M4A</td>\n      <td>North York</td>\n      <td>Victoria Village</td>\n      <td>43.725882</td>\n      <td>-79.315572</td>\n    </tr>\n    <tr>\n      <th>2</th>\n      <td>M5A</td>\n      <td>Downtown Toronto</td>\n      <td>Harbourfront,Regent Park</td>\n      <td>43.654260</td>\n      <td>-79.360636</td>\n    </tr>\n    <tr>\n      <th>3</th>\n      <td>M6A</td>\n      <td>North York</td>\n      <td>Lawrence Heights,Lawrence Manor</td>\n      <td>43.718518</td>\n      <td>-79.464763</td>\n    </tr>\n    <tr>\n      <th>4</th>\n      <td>M7A</td>\n      <td>Queen's Park</td>\n      <td>Queen's Park</td>\n      <td>43.662301</td>\n      <td>-79.389494</td>\n    </tr>\n  </tbody>\n</table>\n</div>", 
                        "text/plain": "  PostalCode           Borough                     Neighborhood   Latitude  \\\n0        M3A        North York                        Parkwoods  43.753259   \n1        M4A        North York                 Victoria Village  43.725882   \n2        M5A  Downtown Toronto         Harbourfront,Regent Park  43.654260   \n3        M6A        North York  Lawrence Heights,Lawrence Manor  43.718518   \n4        M7A      Queen's Park                     Queen's Park  43.662301   \n\n   Longitude  \n0 -79.329656  \n1 -79.315572  \n2 -79.360636  \n3 -79.464763  \n4 -79.389494  "
                    }, 
                    "output_type": "execute_result"
                }
            ], 
            "source": "df_grouped.head()"
        }, 
        {
            "source": "### Finally, download\ndata for clustering in next stepm", 
            "cell_type": "markdown", 
            "metadata": {}
        }, 
        {
            "execution_count": 39, 
            "cell_type": "code", 
            "metadata": {}, 
            "outputs": [
                {
                    "execution_count": 39, 
                    "metadata": {}, 
                    "data": {
                        "text/html": "<a download=\"toronto.csv\" href=\"data:text/csv;base64,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\" target=\"_blank\">Download toronto.csv</a>", 
                        "text/plain": "<IPython.core.display.HTML object>"
                    }, 
                    "output_type": "execute_result"
                }
            ], 
            "source": "## download from Watson Studio Notebook,\n## see https://medium.com/ibm-data-science-experience/how-to-upload-download-files-to-from-notebook-in-my-local-machine-6a4e65a15767\n\nimport base64\nfrom IPython.display import HTML\n\ndef create_download_link( df, title = \"Download CSV file\", filename = \"data.csv\"):  \n    csv = df.to_csv()\n    b64 = base64.b64encode(csv.encode())\n    payload = b64.decode()\n    html = '<a download=\"{filename}\" href=\"data:text/csv;base64,{payload}\" target=\"_blank\">{title}</a>'\n    html = html.format(payload=payload,title=title,filename=filename)\n    return HTML(html)\n\ncreate_download_link(df_grouped, 'Download toronto.csv', 'toronto.csv')"
        }, 
        {
            "execution_count": null, 
            "cell_type": "code", 
            "metadata": {}, 
            "outputs": [], 
            "source": ""
        }
    ], 
    "metadata": {
        "kernelspec": {
            "display_name": "Python 3.5", 
            "name": "python3", 
            "language": "python"
        }, 
        "language_info": {
            "mimetype": "text/x-python", 
            "nbconvert_exporter": "python", 
            "version": "3.5.5", 
            "name": "python", 
            "file_extension": ".py", 
            "pygments_lexer": "ipython3", 
            "codemirror_mode": {
                "version": 3, 
                "name": "ipython"
            }
        }
    }, 
    "nbformat": 4
}